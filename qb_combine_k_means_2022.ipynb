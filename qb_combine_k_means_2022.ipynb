{
  "nbformat": 4,
  "nbformat_minor": 0,
  "metadata": {
    "colab": {
      "name": "qb_combine_k_means_2022.ipynb",
      "provenance": [],
      "collapsed_sections": [],
      "authorship_tag": "ABX9TyN0YeoQqdNjnAfXXGKeHX0Y",
      "include_colab_link": true
    },
    "kernelspec": {
      "name": "python3",
      "display_name": "Python 3"
    },
    "language_info": {
      "name": "python"
    }
  },
  "cells": [
    {
      "cell_type": "markdown",
      "metadata": {
        "id": "view-in-github",
        "colab_type": "text"
      },
      "source": [
        "<a href=\"https://colab.research.google.com/github/ddale23/k_means_combine/blob/main/qb_combine_k_means_2022.ipynb\" target=\"_parent\"><img src=\"https://colab.research.google.com/assets/colab-badge.svg\" alt=\"Open In Colab\"/></a>"
      ]
    },
    {
      "cell_type": "code",
      "execution_count": null,
      "metadata": {
        "id": "TuqlyINg8YJb"
      },
      "outputs": [],
      "source": [
        "#importing the packages that I need\n",
        "from sklearn.cluster import KMeans\n",
        "from sklearn.preprocessing import StandardScaler\n",
        "import pandas as pd\n",
        "import numpy as np\n",
        "import matplotlib.pyplot as plt\n",
        "import seaborn as sns"
      ]
    },
    {
      "cell_type": "code",
      "source": [
        "#Data set that I created in R using 2020 nflfastR data\n",
        "df = pd.read_csv ('https://raw.githubusercontent.com/ddale23/k_means_combine/main/qb_combine_dataset.csv')"
      ],
      "metadata": {
        "id": "AbUrac0F8fSB"
      },
      "execution_count": null,
      "outputs": []
    },
    {
      "cell_type": "code",
      "source": [
        "#selecting columns I want to include\n",
        "convert_data = df[['player_name', 'inch_height', 'wt']]\n"
      ],
      "metadata": {
        "id": "hUFKVPEH8rAN"
      },
      "execution_count": null,
      "outputs": []
    },
    {
      "cell_type": "code",
      "source": [
        "#data set from 2022 qbs\n",
        "qbs_combine = pd.read_csv('https://raw.githubusercontent.com/ddale23/k_means_combine/main/qb_2022_combine.csv')"
      ],
      "metadata": {
        "id": "GVxNP5VrP-iv"
      },
      "execution_count": null,
      "outputs": []
    },
    {
      "cell_type": "code",
      "source": [
        "#select the three columns\n",
        "qbs_combine['wt'] = pd.to_numeric(qbs_combine['weight'])\n"
      ],
      "metadata": {
        "id": "KycT8baLQLX0"
      },
      "execution_count": null,
      "outputs": []
    },
    {
      "cell_type": "code",
      "source": [
        "convert_data_2022 = qbs_combine[['player_name', 'inch_height', 'wt']]"
      ],
      "metadata": {
        "id": "k-NtYSvPRa-_"
      },
      "execution_count": null,
      "outputs": []
    },
    {
      "cell_type": "code",
      "source": [
        "convert_data = pd.concat([convert_data_2022, convert_data], ignore_index=True, axis=0)"
      ],
      "metadata": {
        "id": "oKL2rQGTQXm9"
      },
      "execution_count": null,
      "outputs": []
    },
    {
      "cell_type": "code",
      "source": [
        "#converting to numpy array\n",
        "array_nfl_data = convert_data.to_numpy()"
      ],
      "metadata": {
        "id": "XR-5Yia38zr5"
      },
      "execution_count": null,
      "outputs": []
    },
    {
      "cell_type": "code",
      "source": [
        "array_nfl_data"
      ],
      "metadata": {
        "colab": {
          "base_uri": "https://localhost:8080/"
        },
        "id": "NZ7hy4UYHZYj",
        "outputId": "59a94f55-e1b1-4a0d-c5ed-e5c73ab0e983"
      },
      "execution_count": null,
      "outputs": [
        {
          "output_type": "execute_result",
          "data": {
            "text/plain": [
              "array([['Jack Coan', 75, 218],\n",
              "       ['Matt Corral', 74, 212],\n",
              "       ['Dustin Crum', 73, 210],\n",
              "       ['Kaleb Eleby', 73, 208],\n",
              "       ['Sam Howell', 73, 218],\n",
              "       ['Cole Kelley', 79, 249],\n",
              "       [\"D'Eriq King\", 69, 196],\n",
              "       ['EJ Perry', 74, 211],\n",
              "       ['Kenny Pickett', 75, 217],\n",
              "       ['Brock Purdy', 75, 212],\n",
              "       ['Desmond Ridder', 75, 211],\n",
              "       ['Carson Strong', 75, 226],\n",
              "       ['Skylar Thompson', 75, 217],\n",
              "       ['Malik Willis', 74, 219],\n",
              "       ['Bailey Zappe', 72, 215],\n",
              "       ['Tom Brady', 76, 211],\n",
              "       ['Marc Bulger', 74, 208],\n",
              "       ['Giovanni Carmazzi', 75, 224],\n",
              "       ['Joe Hamilton', 70, 192],\n",
              "       ['Todd Husak', 75, 216],\n",
              "       ['Jarious Jackson', 72, 226],\n",
              "       ['Tee Martin', 74, 227],\n",
              "       ['Chad Pennington', 75, 229],\n",
              "       ['Tim Rattay', 72, 215],\n",
              "       ['Chris Redman', 75, 222],\n",
              "       ['Spergon Wynn', 75, 229],\n",
              "       ['Josh Booty', 74, 221],\n",
              "       ['Drew Brees', 72, 213],\n",
              "       ['Quincy Carter', 74, 225],\n",
              "       ['Josh Heupel', 74, 215],\n",
              "       ['Mike McMahon', 74, 207],\n",
              "       ['Jesse Palmer', 74, 231],\n",
              "       ['Sage Rosenfels', 76, 228],\n",
              "       ['Marques Tuiasosopo', 73, 223],\n",
              "       ['Michael Vick', 72, 210],\n",
              "       ['Chris Weinke', 76, 226],\n",
              "       ['David Carr', 75, 223],\n",
              "       ['Ronald Curry', 74, 220],\n",
              "       ['Rohan Davey', 74, 245],\n",
              "       ['Brandon Doman', 74, 210],\n",
              "       ['Randy Fasani', 75, 224],\n",
              "       ['David Garrard', 74, 235],\n",
              "       ['Joey Harrington', 76, 215],\n",
              "       ['Kurt Kittner', 74, 221],\n",
              "       ['Josh McCown', 76, 221],\n",
              "       [\"J.T. O'Sullivan\", 74, 223],\n",
              "       ['Patrick Ramsey', 74, 219],\n",
              "       ['Kyle Boller', 75, 234],\n",
              "       ['Ken Dorsey', 77, 208],\n",
              "       ['Rex Grossman', 73, 217],\n",
              "       ['Kliff Kingsbury', 75, 213],\n",
              "       ['Byron Leftwich', 77, 241],\n",
              "       ['Carson Palmer', 77, 232],\n",
              "       ['Dave Ragone', 76, 249],\n",
              "       ['Chris Simms', 76, 220],\n",
              "       ['Seneca Wallace', 71, 196],\n",
              "       ['Josh Harris', 73, 238],\n",
              "       ['Craig Krenzel', 75, 228],\n",
              "       ['J.P. Losman', 74, 224],\n",
              "       ['Eli Manning', 77, 221],\n",
              "       ['Matt Mauck', 74, 228],\n",
              "       ['Luke McCown', 76, 208],\n",
              "       ['John Navarre', 78, 246],\n",
              "       ['Bradlee Van Pelt', 74, 231],\n",
              "       ['Cody Pickett', 75, 233],\n",
              "       ['Philip Rivers', 77, 229],\n",
              "       ['Ben Roethlisberger', 77, 241],\n",
              "       ['Matt Schaub', 78, 243],\n",
              "       ['Jeff Smoker', 75, 223],\n",
              "       ['B.J. Symons', 72, 210],\n",
              "       ['Derek Anderson', 78, 242],\n",
              "       ['Jason Campbell', 77, 230],\n",
              "       ['Ryan Fitzpatrick', 74, 232],\n",
              "       ['Charlie Frye', 76, 225],\n",
              "       ['David Greene', 75, 226],\n",
              "       ['Stefan LeFors', 72, 208],\n",
              "       ['Adrian McPherson', 75, 218],\n",
              "       ['Dan Orlovsky', 77, 225],\n",
              "       ['Kyle Orton', 76, 233],\n",
              "       ['Aaron Rodgers', 74, 223],\n",
              "       ['Alex Smith', 76, 217],\n",
              "       ['Andrew Walter', 78, 233],\n",
              "       ['Kellen Clemens', 74, 224],\n",
              "       ['Brodie Croyle', 74, 205],\n",
              "       ['Jay Cutler', 75, 226],\n",
              "       ['Bruce Gradkowski', 73, 217],\n",
              "       ['Tarvaris Jackson', 74, 226],\n",
              "       ['Omar Jacobs', 76, 232],\n",
              "       ['Matt Leinart', 77, 223],\n",
              "       ['Ingle Martin', 74, 220],\n",
              "       ['Reggie McNeal', 74, 198],\n",
              "       ['D.J. Shockley', 73, 214],\n",
              "       ['Charlie Whitehurst', 77, 223],\n",
              "       ['Vince Young', 77, 229],\n",
              "       ['John Beck', 74, 215],\n",
              "       ['Trent Edwards', 76, 231],\n",
              "       ['Kevin Kolb', 75, 218],\n",
              "       ['Jordan Palmer', 78, 231],\n",
              "       ['Brady Quinn', 76, 232],\n",
              "       ['Jeff Rowe', 77, 226],\n",
              "       ['JaMarcus Russell', 77, 265],\n",
              "       ['Troy Smith', 72, 225],\n",
              "       ['Isaiah Stanback', 74, 216],\n",
              "       ['Drew Stanton', 75, 226],\n",
              "       ['Erik Ainge', 77, 225],\n",
              "       ['Colt Brennan', 74, 207],\n",
              "       ['Alex Brink', 74, 211],\n",
              "       ['Brian Brohm', 75, 230],\n",
              "       ['Dennis Dixon', 75, 195],\n",
              "       ['Joe Flacco', 78, 236],\n",
              "       ['Matt Flynn', 74, 231],\n",
              "       ['Chad Henne', 75, 230],\n",
              "       ['Josh Johnson', 75, 213],\n",
              "       [\"Kevin O'Connell\", 77, 225],\n",
              "       ['Matt Ryan', 77, 228],\n",
              "       ['Andre Woodson', 76, 229],\n",
              "       ['Rhett Bomar', 74, 225],\n",
              "       ['Tom Brandstater', 77, 220],\n",
              "       ['Nate Davis', 73, 226],\n",
              "       ['Josh Freeman', 78, 248],\n",
              "       ['Stephen McGee', 75, 225],\n",
              "       ['Curtis Painter', 75, 225],\n",
              "       ['Mark Sanchez', 74, 227],\n",
              "       ['Matthew Stafford', 74, 225],\n",
              "       ['Pat White', 72, 197],\n",
              "       ['Sam Bradford', 76, 236],\n",
              "       ['Levi Brown', 75, 229],\n",
              "       ['Sean Canfield', 76, 223],\n",
              "       ['Jimmy Clausen', 75, 222],\n",
              "       ['Mike Kafka', 75, 225],\n",
              "       ['Dan LeFevour', 75, 230],\n",
              "       ['Colt McCoy', 73, 216],\n",
              "       ['Tony Pike', 78, 223],\n",
              "       ['Zac Robinson', 74, 214],\n",
              "       ['John Skelton', 77, 243],\n",
              "       ['Tim Tebow', 75, 236],\n",
              "       ['Andy Dalton', 74, 215],\n",
              "       ['Nathan Enderle', 76, 240],\n",
              "       ['Blaine Gabbert', 76, 234],\n",
              "       ['Colin Kaepernick', 77, 233],\n",
              "       ['Jake Locker', 74, 231],\n",
              "       ['Ryan Mallett', 79, 253],\n",
              "       ['Greg McElroy', 74, 220],\n",
              "       ['Cam Newton', 77, 248],\n",
              "       ['Christian Ponder', 74, 229],\n",
              "       ['Ricky Stanzi', 76, 223],\n",
              "       ['Tyrod Taylor', 73, 217],\n",
              "       ['T.J. Yates', 75, 219],\n",
              "       ['B.J. Coleman', 75, 233],\n",
              "       ['Kirk Cousins', 75, 214],\n",
              "       ['Nick Foles', 77, 243],\n",
              "       ['Robert Griffin', 74, 223],\n",
              "       ['Chandler Harnish', 74, 219],\n",
              "       ['Ryan Lindley', 76, 229],\n",
              "       ['Andrew Luck', 76, 234],\n",
              "       ['Brock Osweiler', 79, 242],\n",
              "       ['Ryan Tannehill', 76, 221],\n",
              "       ['Brandon Weeden', 75, 221],\n",
              "       ['Russell Wilson', 71, 204],\n",
              "       ['Matt Barkley', 74, 227],\n",
              "       ['Zac Dysert', 75, 231],\n",
              "       ['Mike Glennon', 79, 225],\n",
              "       ['Landry Jones', 76, 225],\n",
              "       ['E.J. Manuel', 77, 237],\n",
              "       ['Ryan Nassib', 74, 227],\n",
              "       ['Sean Renfree', 75, 219],\n",
              "       ['Geno Smith', 74, 218],\n",
              "       ['Brad Sorensen', 76, 229],\n",
              "       ['Tyler Wilson', 74, 215],\n",
              "       ['Blake Bortles', 77, 232],\n",
              "       ['Tajh Boyd', 73, 222],\n",
              "       ['Teddy Bridgewater', 74, 214],\n",
              "       ['Derek Carr', 74, 214],\n",
              "       ['David Fales', 74, 212],\n",
              "       ['Jimmy Garoppolo', 74, 226],\n",
              "       ['Johnny Manziel', 72, 207],\n",
              "       ['A.J. McCarron', 75, 220],\n",
              "       ['Zach Mettenberger', 77, 224],\n",
              "       ['Aaron Murray', 72, 207],\n",
              "       ['Tom Savage', 76, 228],\n",
              "       ['Logan Thomas', 78, 248],\n",
              "       ['Keith Wenning', 75, 218],\n",
              "       ['Garrett Grayson', 74, 213],\n",
              "       ['Brett Hundley', 75, 226],\n",
              "       ['Sean Mannion', 78, 229],\n",
              "       ['Marcus Mariota', 76, 222],\n",
              "       ['Bryce Petty', 75, 230],\n",
              "       ['Jameis Winston', 76, 231],\n",
              "       ['Brandon Allen', 73, 217],\n",
              "       ['Jacoby Brissett', 76, 231],\n",
              "       ['Connor Cook', 76, 217],\n",
              "       ['Brandon Doughty', 75, 213],\n",
              "       ['Jeff Driskel', 76, 234],\n",
              "       ['Jared Goff', 76, 215],\n",
              "       ['Christian Hackenberg', 76, 223],\n",
              "       ['Kevin Hogan', 75, 218],\n",
              "       ['Cardale Jones', 77, 253],\n",
              "       ['Cody Kessler', 73, 220],\n",
              "       ['Paxton Lynch', 79, 244],\n",
              "       ['Dak Prescott', 74, 226],\n",
              "       ['Nate Sudfeld', 78, 234],\n",
              "       ['Carson Wentz', 77, 237],\n",
              "       ['C.J. Beathard', 74, 219],\n",
              "       ['Joshua Dobbs', 75, 216],\n",
              "       ['Brad Kaaya', 76, 214],\n",
              "       ['DeShone Kizer', 76, 233],\n",
              "       ['Patrick Mahomes', 74, 225],\n",
              "       ['Nathan Peterman', 74, 226],\n",
              "       ['Mitchell Trubisky', 74, 222],\n",
              "       ['Deshaun Watson', 74, 221],\n",
              "       ['Davis Webb', 77, 229],\n",
              "       ['Josh Allen', 77, 237],\n",
              "       ['Sam Darnold', 75, 221],\n",
              "       ['Danny Etling', 74, 222],\n",
              "       ['Luke Falk', 76, 215],\n",
              "       ['Lamar Jackson', 74, 216],\n",
              "       ['Kyle Lauletta', 75, 222],\n",
              "       ['Tanner Lee', 76, 218],\n",
              "       ['Baker Mayfield', 73, 215],\n",
              "       ['Josh Rosen', 76, 226],\n",
              "       ['Mason Rudolph', 77, 235],\n",
              "       ['Mike White', 77, 224],\n",
              "       ['Logan Woodside', 73, 213],\n",
              "       ['Ryan Finley', 76, 213],\n",
              "       ['Will Grier', 74, 217],\n",
              "       ['Dwayne Haskins', 75, 231],\n",
              "       ['Daniel Jones', 77, 221],\n",
              "       ['Drew Lock', 76, 228],\n",
              "       ['Trace McSorley', 72, 202],\n",
              "       ['Gardner Minshew', 73, 225],\n",
              "       ['Kyler Murray', 70, 207],\n",
              "       ['Easton Stick', 73, 224],\n",
              "       ['Jarrett Stidham', 74, 218],\n",
              "       ['Clayton Thorson', 76, 222],\n",
              "       ['Joe Burrow', 75, 221],\n",
              "       ['Jacob Eason', 78, 231],\n",
              "       ['Jake Fromm', 74, 219],\n",
              "       ['Justin Herbert', 78, 236],\n",
              "       ['Jalen Hurts', 73, 222],\n",
              "       ['Jordan Love', 76, 224],\n",
              "       ['Jake Luton', 78, 224],\n",
              "       ['Cole McDonald', 75, 215],\n",
              "       ['James Morgan', 76, 229],\n",
              "       ['Nate Stanley', 76, 235],\n",
              "       ['Tua Tagovailoa', 72, 217],\n",
              "       ['Ian Book', 72, 211],\n",
              "       ['Sam Ehlinger', 73, 220],\n",
              "       ['Justin Fields', 74, 227],\n",
              "       ['Mac Jones', 74, 217],\n",
              "       ['Trey Lance', 75, 224],\n",
              "       ['Trevor Lawrence', 77, 213],\n",
              "       ['Davis Mills', 75, 217],\n",
              "       ['Kyle Trask', 77, 236],\n",
              "       ['Zach Wilson', 74, 214]], dtype=object)"
            ]
          },
          "metadata": {},
          "execution_count": 27
        }
      ]
    },
    {
      "cell_type": "code",
      "source": [
        "#separating data from labels part 1\n",
        "qb_labels = array_nfl_data[: , 0]"
      ],
      "metadata": {
        "id": "By8We5Wh82Tb"
      },
      "execution_count": null,
      "outputs": []
    },
    {
      "cell_type": "code",
      "source": [
        "#separating data from labels part 2\n",
        "qb_data = array_nfl_data[: , 1:]"
      ],
      "metadata": {
        "id": "UNgFgMUY85zN"
      },
      "execution_count": null,
      "outputs": []
    },
    {
      "cell_type": "code",
      "source": [
        "#Standardizing data within my data set to give kmeans clusters a better performance and less skew\n",
        "scaler = StandardScaler()\n",
        "scaled_features = scaler.fit_transform(qb_data)\n",
        "scaled_features[:5]"
      ],
      "metadata": {
        "colab": {
          "base_uri": "https://localhost:8080/"
        },
        "id": "Q0imglRS88dk",
        "outputId": "9c5eee70-8505-406d-cc11-e1d22516e490"
      },
      "execution_count": null,
      "outputs": [
        {
          "output_type": "execute_result",
          "data": {
            "text/plain": [
              "array([[-0.00225973, -0.50173898],\n",
              "       [-0.57623183, -1.05784822],\n",
              "       [-1.15020392, -1.24321797],\n",
              "       [-1.15020392, -1.42858772],\n",
              "       [-1.15020392, -0.50173898]])"
            ]
          },
          "metadata": {},
          "execution_count": 30
        }
      ]
    },
    {
      "cell_type": "code",
      "source": [
        "#setting up kmeans\n",
        "kmeans = KMeans(\n",
        "    init = \"random\",\n",
        "    n_clusters = 5,\n",
        "    n_init = 100, #num initializations\n",
        "    max_iter = 500, #number of max iterations per initialization\n",
        "    random_state = 42 #helps reproduce results\n",
        ")\n",
        "\n",
        "kmeans.fit(scaled_features)"
      ],
      "metadata": {
        "colab": {
          "base_uri": "https://localhost:8080/"
        },
        "id": "EHrCcyrl8_Jr",
        "outputId": "14d26c0e-3244-4e34-dcc5-b8d871cbe95f"
      },
      "execution_count": null,
      "outputs": [
        {
          "output_type": "execute_result",
          "data": {
            "text/plain": [
              "KMeans(init='random', max_iter=500, n_clusters=5, n_init=100, random_state=42)"
            ]
          },
          "metadata": {},
          "execution_count": 31
        }
      ]
    },
    {
      "cell_type": "code",
      "source": [
        "kmeans.fit(scaled_features)"
      ],
      "metadata": {
        "colab": {
          "base_uri": "https://localhost:8080/"
        },
        "id": "e2qVQ7X29BWV",
        "outputId": "53b5b317-93e1-45c4-dca4-92fe3a579f3e"
      },
      "execution_count": null,
      "outputs": [
        {
          "output_type": "execute_result",
          "data": {
            "text/plain": [
              "KMeans(init='random', max_iter=500, n_clusters=5, n_init=100, random_state=42)"
            ]
          },
          "metadata": {},
          "execution_count": 32
        }
      ]
    },
    {
      "cell_type": "code",
      "source": [
        "#viewing labels for kmeans\n",
        "final_labs = kmeans.labels_\n",
        "kmeans.labels_"
      ],
      "metadata": {
        "colab": {
          "base_uri": "https://localhost:8080/"
        },
        "id": "Yz6hzZBZ9EA4",
        "outputId": "12bc104d-973f-4f4f-a303-8421e2eae9f3"
      },
      "execution_count": null,
      "outputs": [
        {
          "output_type": "execute_result",
          "data": {
            "text/plain": [
              "array([0, 0, 1, 1, 0, 3, 1, 0, 0, 0, 0, 2, 0, 0, 1, 0, 0, 2, 1, 0, 2, 2,\n",
              "       2, 1, 2, 2, 0, 1, 2, 0, 0, 2, 4, 2, 1, 4, 2, 0, 2, 0, 2, 2, 0, 0,\n",
              "       4, 2, 0, 2, 0, 0, 0, 3, 4, 3, 4, 1, 2, 2, 2, 4, 2, 0, 3, 2, 2, 4,\n",
              "       3, 3, 2, 1, 3, 4, 2, 4, 2, 1, 0, 4, 4, 2, 0, 3, 2, 0, 2, 0, 2, 4,\n",
              "       4, 0, 1, 0, 4, 4, 0, 4, 0, 4, 4, 4, 3, 2, 0, 2, 4, 0, 0, 2, 0, 3,\n",
              "       2, 2, 0, 4, 4, 4, 2, 4, 2, 3, 2, 2, 2, 2, 1, 4, 2, 4, 2, 2, 2, 0,\n",
              "       4, 0, 3, 2, 0, 3, 4, 4, 2, 3, 0, 3, 2, 4, 0, 0, 2, 0, 3, 2, 0, 4,\n",
              "       4, 3, 4, 0, 1, 2, 2, 4, 4, 3, 2, 0, 0, 4, 0, 4, 2, 0, 0, 0, 2, 1,\n",
              "       0, 4, 1, 4, 3, 0, 0, 2, 4, 4, 2, 4, 0, 4, 0, 0, 4, 0, 4, 0, 3, 0,\n",
              "       3, 2, 3, 3, 0, 0, 0, 4, 2, 2, 2, 0, 4, 3, 0, 2, 0, 0, 2, 4, 0, 4,\n",
              "       4, 4, 0, 0, 0, 2, 4, 4, 1, 2, 1, 2, 0, 4, 0, 4, 0, 3, 2, 4, 4, 0,\n",
              "       4, 4, 1, 1, 0, 2, 0, 2, 4, 0, 3, 0], dtype=int32)"
            ]
          },
          "metadata": {},
          "execution_count": 33
        }
      ]
    },
    {
      "cell_type": "code",
      "source": [
        "#joining labels for kmeans with labels from original data set\n",
        "nfl_clustered = np.vstack((final_labs, qb_labels)).T\n",
        "nfl_clustered"
      ],
      "metadata": {
        "colab": {
          "base_uri": "https://localhost:8080/"
        },
        "id": "gCSOYlW89HB6",
        "outputId": "f14e406a-ce5e-43a5-f3d2-af04615d8b84"
      },
      "execution_count": null,
      "outputs": [
        {
          "output_type": "execute_result",
          "data": {
            "text/plain": [
              "array([[0, 'Jack Coan'],\n",
              "       [0, 'Matt Corral'],\n",
              "       [1, 'Dustin Crum'],\n",
              "       [1, 'Kaleb Eleby'],\n",
              "       [0, 'Sam Howell'],\n",
              "       [3, 'Cole Kelley'],\n",
              "       [1, \"D'Eriq King\"],\n",
              "       [0, 'EJ Perry'],\n",
              "       [0, 'Kenny Pickett'],\n",
              "       [0, 'Brock Purdy'],\n",
              "       [0, 'Desmond Ridder'],\n",
              "       [2, 'Carson Strong'],\n",
              "       [0, 'Skylar Thompson'],\n",
              "       [0, 'Malik Willis'],\n",
              "       [1, 'Bailey Zappe'],\n",
              "       [0, 'Tom Brady'],\n",
              "       [0, 'Marc Bulger'],\n",
              "       [2, 'Giovanni Carmazzi'],\n",
              "       [1, 'Joe Hamilton'],\n",
              "       [0, 'Todd Husak'],\n",
              "       [2, 'Jarious Jackson'],\n",
              "       [2, 'Tee Martin'],\n",
              "       [2, 'Chad Pennington'],\n",
              "       [1, 'Tim Rattay'],\n",
              "       [2, 'Chris Redman'],\n",
              "       [2, 'Spergon Wynn'],\n",
              "       [0, 'Josh Booty'],\n",
              "       [1, 'Drew Brees'],\n",
              "       [2, 'Quincy Carter'],\n",
              "       [0, 'Josh Heupel'],\n",
              "       [0, 'Mike McMahon'],\n",
              "       [2, 'Jesse Palmer'],\n",
              "       [4, 'Sage Rosenfels'],\n",
              "       [2, 'Marques Tuiasosopo'],\n",
              "       [1, 'Michael Vick'],\n",
              "       [4, 'Chris Weinke'],\n",
              "       [2, 'David Carr'],\n",
              "       [0, 'Ronald Curry'],\n",
              "       [2, 'Rohan Davey'],\n",
              "       [0, 'Brandon Doman'],\n",
              "       [2, 'Randy Fasani'],\n",
              "       [2, 'David Garrard'],\n",
              "       [0, 'Joey Harrington'],\n",
              "       [0, 'Kurt Kittner'],\n",
              "       [4, 'Josh McCown'],\n",
              "       [2, \"J.T. O'Sullivan\"],\n",
              "       [0, 'Patrick Ramsey'],\n",
              "       [2, 'Kyle Boller'],\n",
              "       [0, 'Ken Dorsey'],\n",
              "       [0, 'Rex Grossman'],\n",
              "       [0, 'Kliff Kingsbury'],\n",
              "       [3, 'Byron Leftwich'],\n",
              "       [4, 'Carson Palmer'],\n",
              "       [3, 'Dave Ragone'],\n",
              "       [4, 'Chris Simms'],\n",
              "       [1, 'Seneca Wallace'],\n",
              "       [2, 'Josh Harris'],\n",
              "       [2, 'Craig Krenzel'],\n",
              "       [2, 'J.P. Losman'],\n",
              "       [4, 'Eli Manning'],\n",
              "       [2, 'Matt Mauck'],\n",
              "       [0, 'Luke McCown'],\n",
              "       [3, 'John Navarre'],\n",
              "       [2, 'Bradlee Van Pelt'],\n",
              "       [2, 'Cody Pickett'],\n",
              "       [4, 'Philip Rivers'],\n",
              "       [3, 'Ben Roethlisberger'],\n",
              "       [3, 'Matt Schaub'],\n",
              "       [2, 'Jeff Smoker'],\n",
              "       [1, 'B.J. Symons'],\n",
              "       [3, 'Derek Anderson'],\n",
              "       [4, 'Jason Campbell'],\n",
              "       [2, 'Ryan Fitzpatrick'],\n",
              "       [4, 'Charlie Frye'],\n",
              "       [2, 'David Greene'],\n",
              "       [1, 'Stefan LeFors'],\n",
              "       [0, 'Adrian McPherson'],\n",
              "       [4, 'Dan Orlovsky'],\n",
              "       [4, 'Kyle Orton'],\n",
              "       [2, 'Aaron Rodgers'],\n",
              "       [0, 'Alex Smith'],\n",
              "       [3, 'Andrew Walter'],\n",
              "       [2, 'Kellen Clemens'],\n",
              "       [0, 'Brodie Croyle'],\n",
              "       [2, 'Jay Cutler'],\n",
              "       [0, 'Bruce Gradkowski'],\n",
              "       [2, 'Tarvaris Jackson'],\n",
              "       [4, 'Omar Jacobs'],\n",
              "       [4, 'Matt Leinart'],\n",
              "       [0, 'Ingle Martin'],\n",
              "       [1, 'Reggie McNeal'],\n",
              "       [0, 'D.J. Shockley'],\n",
              "       [4, 'Charlie Whitehurst'],\n",
              "       [4, 'Vince Young'],\n",
              "       [0, 'John Beck'],\n",
              "       [4, 'Trent Edwards'],\n",
              "       [0, 'Kevin Kolb'],\n",
              "       [4, 'Jordan Palmer'],\n",
              "       [4, 'Brady Quinn'],\n",
              "       [4, 'Jeff Rowe'],\n",
              "       [3, 'JaMarcus Russell'],\n",
              "       [2, 'Troy Smith'],\n",
              "       [0, 'Isaiah Stanback'],\n",
              "       [2, 'Drew Stanton'],\n",
              "       [4, 'Erik Ainge'],\n",
              "       [0, 'Colt Brennan'],\n",
              "       [0, 'Alex Brink'],\n",
              "       [2, 'Brian Brohm'],\n",
              "       [0, 'Dennis Dixon'],\n",
              "       [3, 'Joe Flacco'],\n",
              "       [2, 'Matt Flynn'],\n",
              "       [2, 'Chad Henne'],\n",
              "       [0, 'Josh Johnson'],\n",
              "       [4, \"Kevin O'Connell\"],\n",
              "       [4, 'Matt Ryan'],\n",
              "       [4, 'Andre Woodson'],\n",
              "       [2, 'Rhett Bomar'],\n",
              "       [4, 'Tom Brandstater'],\n",
              "       [2, 'Nate Davis'],\n",
              "       [3, 'Josh Freeman'],\n",
              "       [2, 'Stephen McGee'],\n",
              "       [2, 'Curtis Painter'],\n",
              "       [2, 'Mark Sanchez'],\n",
              "       [2, 'Matthew Stafford'],\n",
              "       [1, 'Pat White'],\n",
              "       [4, 'Sam Bradford'],\n",
              "       [2, 'Levi Brown'],\n",
              "       [4, 'Sean Canfield'],\n",
              "       [2, 'Jimmy Clausen'],\n",
              "       [2, 'Mike Kafka'],\n",
              "       [2, 'Dan LeFevour'],\n",
              "       [0, 'Colt McCoy'],\n",
              "       [4, 'Tony Pike'],\n",
              "       [0, 'Zac Robinson'],\n",
              "       [3, 'John Skelton'],\n",
              "       [2, 'Tim Tebow'],\n",
              "       [0, 'Andy Dalton'],\n",
              "       [3, 'Nathan Enderle'],\n",
              "       [4, 'Blaine Gabbert'],\n",
              "       [4, 'Colin Kaepernick'],\n",
              "       [2, 'Jake Locker'],\n",
              "       [3, 'Ryan Mallett'],\n",
              "       [0, 'Greg McElroy'],\n",
              "       [3, 'Cam Newton'],\n",
              "       [2, 'Christian Ponder'],\n",
              "       [4, 'Ricky Stanzi'],\n",
              "       [0, 'Tyrod Taylor'],\n",
              "       [0, 'T.J. Yates'],\n",
              "       [2, 'B.J. Coleman'],\n",
              "       [0, 'Kirk Cousins'],\n",
              "       [3, 'Nick Foles'],\n",
              "       [2, 'Robert Griffin'],\n",
              "       [0, 'Chandler Harnish'],\n",
              "       [4, 'Ryan Lindley'],\n",
              "       [4, 'Andrew Luck'],\n",
              "       [3, 'Brock Osweiler'],\n",
              "       [4, 'Ryan Tannehill'],\n",
              "       [0, 'Brandon Weeden'],\n",
              "       [1, 'Russell Wilson'],\n",
              "       [2, 'Matt Barkley'],\n",
              "       [2, 'Zac Dysert'],\n",
              "       [4, 'Mike Glennon'],\n",
              "       [4, 'Landry Jones'],\n",
              "       [3, 'E.J. Manuel'],\n",
              "       [2, 'Ryan Nassib'],\n",
              "       [0, 'Sean Renfree'],\n",
              "       [0, 'Geno Smith'],\n",
              "       [4, 'Brad Sorensen'],\n",
              "       [0, 'Tyler Wilson'],\n",
              "       [4, 'Blake Bortles'],\n",
              "       [2, 'Tajh Boyd'],\n",
              "       [0, 'Teddy Bridgewater'],\n",
              "       [0, 'Derek Carr'],\n",
              "       [0, 'David Fales'],\n",
              "       [2, 'Jimmy Garoppolo'],\n",
              "       [1, 'Johnny Manziel'],\n",
              "       [0, 'A.J. McCarron'],\n",
              "       [4, 'Zach Mettenberger'],\n",
              "       [1, 'Aaron Murray'],\n",
              "       [4, 'Tom Savage'],\n",
              "       [3, 'Logan Thomas'],\n",
              "       [0, 'Keith Wenning'],\n",
              "       [0, 'Garrett Grayson'],\n",
              "       [2, 'Brett Hundley'],\n",
              "       [4, 'Sean Mannion'],\n",
              "       [4, 'Marcus Mariota'],\n",
              "       [2, 'Bryce Petty'],\n",
              "       [4, 'Jameis Winston'],\n",
              "       [0, 'Brandon Allen'],\n",
              "       [4, 'Jacoby Brissett'],\n",
              "       [0, 'Connor Cook'],\n",
              "       [0, 'Brandon Doughty'],\n",
              "       [4, 'Jeff Driskel'],\n",
              "       [0, 'Jared Goff'],\n",
              "       [4, 'Christian Hackenberg'],\n",
              "       [0, 'Kevin Hogan'],\n",
              "       [3, 'Cardale Jones'],\n",
              "       [0, 'Cody Kessler'],\n",
              "       [3, 'Paxton Lynch'],\n",
              "       [2, 'Dak Prescott'],\n",
              "       [3, 'Nate Sudfeld'],\n",
              "       [3, 'Carson Wentz'],\n",
              "       [0, 'C.J. Beathard'],\n",
              "       [0, 'Joshua Dobbs'],\n",
              "       [0, 'Brad Kaaya'],\n",
              "       [4, 'DeShone Kizer'],\n",
              "       [2, 'Patrick Mahomes'],\n",
              "       [2, 'Nathan Peterman'],\n",
              "       [2, 'Mitchell Trubisky'],\n",
              "       [0, 'Deshaun Watson'],\n",
              "       [4, 'Davis Webb'],\n",
              "       [3, 'Josh Allen'],\n",
              "       [0, 'Sam Darnold'],\n",
              "       [2, 'Danny Etling'],\n",
              "       [0, 'Luke Falk'],\n",
              "       [0, 'Lamar Jackson'],\n",
              "       [2, 'Kyle Lauletta'],\n",
              "       [4, 'Tanner Lee'],\n",
              "       [0, 'Baker Mayfield'],\n",
              "       [4, 'Josh Rosen'],\n",
              "       [4, 'Mason Rudolph'],\n",
              "       [4, 'Mike White'],\n",
              "       [0, 'Logan Woodside'],\n",
              "       [0, 'Ryan Finley'],\n",
              "       [0, 'Will Grier'],\n",
              "       [2, 'Dwayne Haskins'],\n",
              "       [4, 'Daniel Jones'],\n",
              "       [4, 'Drew Lock'],\n",
              "       [1, 'Trace McSorley'],\n",
              "       [2, 'Gardner Minshew'],\n",
              "       [1, 'Kyler Murray'],\n",
              "       [2, 'Easton Stick'],\n",
              "       [0, 'Jarrett Stidham'],\n",
              "       [4, 'Clayton Thorson'],\n",
              "       [0, 'Joe Burrow'],\n",
              "       [4, 'Jacob Eason'],\n",
              "       [0, 'Jake Fromm'],\n",
              "       [3, 'Justin Herbert'],\n",
              "       [2, 'Jalen Hurts'],\n",
              "       [4, 'Jordan Love'],\n",
              "       [4, 'Jake Luton'],\n",
              "       [0, 'Cole McDonald'],\n",
              "       [4, 'James Morgan'],\n",
              "       [4, 'Nate Stanley'],\n",
              "       [1, 'Tua Tagovailoa'],\n",
              "       [1, 'Ian Book'],\n",
              "       [0, 'Sam Ehlinger'],\n",
              "       [2, 'Justin Fields'],\n",
              "       [0, 'Mac Jones'],\n",
              "       [2, 'Trey Lance'],\n",
              "       [4, 'Trevor Lawrence'],\n",
              "       [0, 'Davis Mills'],\n",
              "       [3, 'Kyle Trask'],\n",
              "       [0, 'Zach Wilson']], dtype=object)"
            ]
          },
          "metadata": {},
          "execution_count": 34
        }
      ]
    },
    {
      "cell_type": "code",
      "source": [
        "#piecing together each output\n",
        "data_len = len(nfl_clustered)\n",
        "\n",
        "zero_list = []\n",
        "zero_count = 0\n",
        "\n",
        "one_list = []\n",
        "one_count = 0\n",
        "\n",
        "two_list = []\n",
        "two_count = 0\n",
        "\n",
        "three_list = []\n",
        "three_count = 0\n",
        "\n",
        "four_list = []\n",
        "four_count = 0\n",
        "\n",
        "five_list = []\n",
        "five_count = 0\n",
        "\n",
        "\n",
        "\n",
        "for i in range(data_len):\n",
        "  if nfl_clustered[i,0] == 0:\n",
        "    zero_list.append(nfl_clustered[i,1])\n",
        "    zero_count += 1\n",
        "\n",
        "  elif nfl_clustered[i,0] == 1:\n",
        "    one_list.append(nfl_clustered[i,1])\n",
        "    one_count += 1\n",
        "\n",
        "  elif nfl_clustered[i,0] == 2:\n",
        "    two_list.append(nfl_clustered[i,1])\n",
        "    two_count += 1\n",
        "\n",
        "  elif nfl_clustered[i,0] == 3:\n",
        "    three_list.append(nfl_clustered[i,1])\n",
        "    three_count += 1\n",
        "\n",
        "  elif nfl_clustered[i,0] == 4:\n",
        "    four_list.append(nfl_clustered[i,1])\n",
        "    four_count += 1\n",
        "\n",
        "  else:\n",
        "     print('error')\n",
        "\n",
        "print('Grouping Zero includes', zero_count, 'QBs:\\n', zero_list, '\\n') \n",
        "print('Grouping One includes', one_count, 'QBs:\\n', one_list, '\\n') \n",
        "print('Grouping Two includes', two_count, 'QBs:\\n', two_list, '\\n') \n",
        "print('Grouping Three includes', three_count, 'QBs:\\n', three_list, '\\n') \n",
        "print('Grouping Four includes', four_count, 'QBs:\\n', four_list, '\\n') \n",
        "print('Total QBs in Sample:', zero_count+ one_count + two_count + three_count + four_count )"
      ],
      "metadata": {
        "colab": {
          "base_uri": "https://localhost:8080/"
        },
        "id": "Djikfdpc9OcX",
        "outputId": "239365c4-2e47-48ae-d998-c2772ef96bee"
      },
      "execution_count": null,
      "outputs": [
        {
          "output_type": "stream",
          "name": "stdout",
          "text": [
            "Grouping Zero includes 80 QBs:\n",
            " ['Jack Coan', 'Matt Corral', 'Sam Howell', 'EJ Perry', 'Kenny Pickett', 'Brock Purdy', 'Desmond Ridder', 'Skylar Thompson', 'Malik Willis', 'Tom Brady', 'Marc Bulger', 'Todd Husak', 'Josh Booty', 'Josh Heupel', 'Mike McMahon', 'Ronald Curry', 'Brandon Doman', 'Joey Harrington', 'Kurt Kittner', 'Patrick Ramsey', 'Ken Dorsey', 'Rex Grossman', 'Kliff Kingsbury', 'Luke McCown', 'Adrian McPherson', 'Alex Smith', 'Brodie Croyle', 'Bruce Gradkowski', 'Ingle Martin', 'D.J. Shockley', 'John Beck', 'Kevin Kolb', 'Isaiah Stanback', 'Colt Brennan', 'Alex Brink', 'Dennis Dixon', 'Josh Johnson', 'Colt McCoy', 'Zac Robinson', 'Andy Dalton', 'Greg McElroy', 'Tyrod Taylor', 'T.J. Yates', 'Kirk Cousins', 'Chandler Harnish', 'Brandon Weeden', 'Sean Renfree', 'Geno Smith', 'Tyler Wilson', 'Teddy Bridgewater', 'Derek Carr', 'David Fales', 'A.J. McCarron', 'Keith Wenning', 'Garrett Grayson', 'Brandon Allen', 'Connor Cook', 'Brandon Doughty', 'Jared Goff', 'Kevin Hogan', 'Cody Kessler', 'C.J. Beathard', 'Joshua Dobbs', 'Brad Kaaya', 'Deshaun Watson', 'Sam Darnold', 'Luke Falk', 'Lamar Jackson', 'Baker Mayfield', 'Logan Woodside', 'Ryan Finley', 'Will Grier', 'Jarrett Stidham', 'Joe Burrow', 'Jake Fromm', 'Cole McDonald', 'Sam Ehlinger', 'Mac Jones', 'Davis Mills', 'Zach Wilson'] \n",
            "\n",
            "Grouping One includes 20 QBs:\n",
            " ['Dustin Crum', 'Kaleb Eleby', \"D'Eriq King\", 'Bailey Zappe', 'Joe Hamilton', 'Tim Rattay', 'Drew Brees', 'Michael Vick', 'Seneca Wallace', 'B.J. Symons', 'Stefan LeFors', 'Reggie McNeal', 'Pat White', 'Russell Wilson', 'Johnny Manziel', 'Aaron Murray', 'Trace McSorley', 'Kyler Murray', 'Tua Tagovailoa', 'Ian Book'] \n",
            "\n",
            "Grouping Two includes 68 QBs:\n",
            " ['Carson Strong', 'Giovanni Carmazzi', 'Jarious Jackson', 'Tee Martin', 'Chad Pennington', 'Chris Redman', 'Spergon Wynn', 'Quincy Carter', 'Jesse Palmer', 'Marques Tuiasosopo', 'David Carr', 'Rohan Davey', 'Randy Fasani', 'David Garrard', \"J.T. O'Sullivan\", 'Kyle Boller', 'Josh Harris', 'Craig Krenzel', 'J.P. Losman', 'Matt Mauck', 'Bradlee Van Pelt', 'Cody Pickett', 'Jeff Smoker', 'Ryan Fitzpatrick', 'David Greene', 'Aaron Rodgers', 'Kellen Clemens', 'Jay Cutler', 'Tarvaris Jackson', 'Troy Smith', 'Drew Stanton', 'Brian Brohm', 'Matt Flynn', 'Chad Henne', 'Rhett Bomar', 'Nate Davis', 'Stephen McGee', 'Curtis Painter', 'Mark Sanchez', 'Matthew Stafford', 'Levi Brown', 'Jimmy Clausen', 'Mike Kafka', 'Dan LeFevour', 'Tim Tebow', 'Jake Locker', 'Christian Ponder', 'B.J. Coleman', 'Robert Griffin', 'Matt Barkley', 'Zac Dysert', 'Ryan Nassib', 'Tajh Boyd', 'Jimmy Garoppolo', 'Brett Hundley', 'Bryce Petty', 'Dak Prescott', 'Patrick Mahomes', 'Nathan Peterman', 'Mitchell Trubisky', 'Danny Etling', 'Kyle Lauletta', 'Dwayne Haskins', 'Gardner Minshew', 'Easton Stick', 'Jalen Hurts', 'Justin Fields', 'Trey Lance'] \n",
            "\n",
            "Grouping Three includes 26 QBs:\n",
            " ['Cole Kelley', 'Byron Leftwich', 'Dave Ragone', 'John Navarre', 'Ben Roethlisberger', 'Matt Schaub', 'Derek Anderson', 'Andrew Walter', 'JaMarcus Russell', 'Joe Flacco', 'Josh Freeman', 'John Skelton', 'Nathan Enderle', 'Ryan Mallett', 'Cam Newton', 'Nick Foles', 'Brock Osweiler', 'E.J. Manuel', 'Logan Thomas', 'Cardale Jones', 'Paxton Lynch', 'Nate Sudfeld', 'Carson Wentz', 'Josh Allen', 'Justin Herbert', 'Kyle Trask'] \n",
            "\n",
            "Grouping Four includes 60 QBs:\n",
            " ['Sage Rosenfels', 'Chris Weinke', 'Josh McCown', 'Carson Palmer', 'Chris Simms', 'Eli Manning', 'Philip Rivers', 'Jason Campbell', 'Charlie Frye', 'Dan Orlovsky', 'Kyle Orton', 'Omar Jacobs', 'Matt Leinart', 'Charlie Whitehurst', 'Vince Young', 'Trent Edwards', 'Jordan Palmer', 'Brady Quinn', 'Jeff Rowe', 'Erik Ainge', \"Kevin O'Connell\", 'Matt Ryan', 'Andre Woodson', 'Tom Brandstater', 'Sam Bradford', 'Sean Canfield', 'Tony Pike', 'Blaine Gabbert', 'Colin Kaepernick', 'Ricky Stanzi', 'Ryan Lindley', 'Andrew Luck', 'Ryan Tannehill', 'Mike Glennon', 'Landry Jones', 'Brad Sorensen', 'Blake Bortles', 'Zach Mettenberger', 'Tom Savage', 'Sean Mannion', 'Marcus Mariota', 'Jameis Winston', 'Jacoby Brissett', 'Jeff Driskel', 'Christian Hackenberg', 'DeShone Kizer', 'Davis Webb', 'Tanner Lee', 'Josh Rosen', 'Mason Rudolph', 'Mike White', 'Daniel Jones', 'Drew Lock', 'Clayton Thorson', 'Jacob Eason', 'Jordan Love', 'Jake Luton', 'James Morgan', 'Nate Stanley', 'Trevor Lawrence'] \n",
            "\n",
            "Total QBs in Sample: 254\n"
          ]
        }
      ]
    },
    {
      "cell_type": "code",
      "source": [
        "intertia = []\n",
        "K = range(1,15)\n",
        "for k in K:\n",
        "    km = KMeans(n_clusters = k)\n",
        "    km = km.fit(qb_data)\n",
        "    intertia.append(km.inertia_)\n",
        "plt.plot(K, intertia, marker= \"x\")\n",
        "plt.xlabel('k')\n",
        "plt.xticks(np.arange(15))\n",
        "plt.ylabel('Intertia')\n",
        "plt.title('Elbow Method')\n",
        "plt.show()"
      ],
      "metadata": {
        "colab": {
          "base_uri": "https://localhost:8080/",
          "height": 295
        },
        "id": "BaXj4B379doI",
        "outputId": "a2d2c57f-b996-47d7-894e-d45f980b7155"
      },
      "execution_count": null,
      "outputs": [
        {
          "output_type": "display_data",
          "data": {
            "text/plain": [
              "<Figure size 432x288 with 1 Axes>"
            ],
            "image/png": "[encoded data removed]"
          },
          "metadata": {
            "needs_background": "light"
          }
        }
      ]
    },
    {
      "cell_type": "code",
      "source": [
        "#take labels and compose data set to bring into R with k-means labels\n",
        "final_data = np.concatenate((nfl_clustered, array_nfl_data), axis = 1)"
      ],
      "metadata": {
        "id": "Z_soVrxhGw1P"
      },
      "execution_count": null,
      "outputs": []
    },
    {
      "cell_type": "code",
      "source": [
        "final_data"
      ],
      "metadata": {
        "colab": {
          "base_uri": "https://localhost:8080/"
        },
        "id": "q8biIgIjJZHt",
        "outputId": "273c0e0b-5e45-4d2f-e107-2b84906b20ba"
      },
      "execution_count": null,
      "outputs": [
        {
          "output_type": "execute_result",
          "data": {
            "text/plain": [
              "array([[0, 'Jack Coan', 'Jack Coan', 75, 218],\n",
              "       [0, 'Matt Corral', 'Matt Corral', 74, 212],\n",
              "       [1, 'Dustin Crum', 'Dustin Crum', 73, 210],\n",
              "       ...,\n",
              "       [0, 'Davis Mills', 'Davis Mills', 75, 217],\n",
              "       [3, 'Kyle Trask', 'Kyle Trask', 77, 236],\n",
              "       [0, 'Zach Wilson', 'Zach Wilson', 74, 214]], dtype=object)"
            ]
          },
          "metadata": {},
          "execution_count": 38
        }
      ]
    },
    {
      "cell_type": "code",
      "source": [
        "final_data = pd.DataFrame(\n",
        "    final_data,\n",
        "    columns = ['cluster', 'qb_name', 'qb_sec', 'height', 'weight']\n",
        ")"
      ],
      "metadata": {
        "id": "NGFbq7gOJHao"
      },
      "execution_count": null,
      "outputs": []
    },
    {
      "cell_type": "code",
      "source": [
        "from google.colab import files\n",
        "final_data.to_csv('final_data.csv') \n",
        "files.download('final_data.csv')"
      ],
      "metadata": {
        "colab": {
          "base_uri": "https://localhost:8080/",
          "height": 17
        },
        "id": "lWoIQegGIk5X",
        "outputId": "97140a0e-e46b-4d1c-beb4-ae17fabf6ad9"
      },
      "execution_count": null,
      "outputs": [
        {
          "output_type": "display_data",
          "data": {
            "text/plain": [
              "<IPython.core.display.Javascript object>"
            ],
            "application/javascript": [
              "\n",
              "    async function download(id, filename, size) {\n",
              "      if (!google.colab.kernel.accessAllowed) {\n",
              "        return;\n",
              "      }\n",
              "      const div = document.createElement('div');\n",
              "      const label = document.createElement('label');\n",
              "      label.textContent = `Downloading \"${filename}\": `;\n",
              "      div.appendChild(label);\n",
              "      const progress = document.createElement('progress');\n",
              "      progress.max = size;\n",
              "      div.appendChild(progress);\n",
              "      document.body.appendChild(div);\n",
              "\n",
              "      const buffers = [];\n",
              "      let downloaded = 0;\n",
              "\n",
              "      const channel = await google.colab.kernel.comms.open(id);\n",
              "      // Send a message to notify the kernel that we're ready.\n",
              "      channel.send({})\n",
              "\n",
              "      for await (const message of channel.messages) {\n",
              "        // Send a message to notify the kernel that we're ready.\n",
              "        channel.send({})\n",
              "        if (message.buffers) {\n",
              "          for (const buffer of message.buffers) {\n",
              "            buffers.push(buffer);\n",
              "            downloaded += buffer.byteLength;\n",
              "            progress.value = downloaded;\n",
              "          }\n",
              "        }\n",
              "      }\n",
              "      const blob = new Blob(buffers, {type: 'application/binary'});\n",
              "      const a = document.createElement('a');\n",
              "      a.href = window.URL.createObjectURL(blob);\n",
              "      a.download = filename;\n",
              "      div.appendChild(a);\n",
              "      a.click();\n",
              "      div.remove();\n",
              "    }\n",
              "  "
            ]
          },
          "metadata": {}
        },
        {
          "output_type": "display_data",
          "data": {
            "text/plain": [
              "<IPython.core.display.Javascript object>"
            ],
            "application/javascript": [
              "download(\"download_f4b5b5e1-ad33-454e-ae8c-d97b39554475\", \"final_data.csv\", 9950)"
            ]
          },
          "metadata": {}
        }
      ]
    }
  ]
}